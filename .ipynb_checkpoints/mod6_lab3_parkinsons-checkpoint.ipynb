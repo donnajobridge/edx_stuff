{
 "cells": [
  {
   "cell_type": "code",
   "execution_count": 1,
   "metadata": {},
   "outputs": [],
   "source": [
    "import pandas as pd\n",
    "import numpy as np\n",
    "import matplotlib.pyplot as plt\n",
    "\n",
    "from sklearn import svm\n",
    "from sklearn.model_selection import train_test_split\n",
    "from sklearn import preprocessing\n",
    "from sklearn.decomposition import PCA\n",
    "from sklearn.manifold import Isomap"
   ]
  },
  {
   "cell_type": "code",
   "execution_count": 2,
   "metadata": {},
   "outputs": [],
   "source": [
    "X=pd.read_csv('../DAT210x/Module6/Datasets/parkinsons.data', index_col=0)\n",
    "# X[pd.isnull(X).any(axis=1)]"
   ]
  },
  {
   "cell_type": "code",
   "execution_count": 3,
   "metadata": {},
   "outputs": [],
   "source": [
    "y=X.status\n",
    "X.drop('status', axis=1, inplace=True)"
   ]
  },
  {
   "cell_type": "code",
   "execution_count": 4,
   "metadata": {},
   "outputs": [],
   "source": [
    "X_train, X_test, y_train, y_test=train_test_split(X, y, test_size=.3, random_state=7)"
   ]
  },
  {
   "cell_type": "code",
   "execution_count": 5,
   "metadata": {},
   "outputs": [],
   "source": [
    "# norm=preprocessing.Normalizer().fit(X_train)\n",
    "# norm=preprocessing.MaxAbsScaler().fit(X_train)\n",
    "# norm=preprocessing.MinMaxScaler().fit(X_train)\n",
    "# norm=preprocessing.KernelCenterer().fit(X_train)\n",
    "norm=preprocessing.StandardScaler().fit(X_train)\n"
   ]
  },
  {
   "cell_type": "code",
   "execution_count": 6,
   "metadata": {},
   "outputs": [],
   "source": [
    "X_train=norm.transform(X_train)\n",
    "X_test=norm.transform(X_test)"
   ]
  },
  {
   "cell_type": "code",
   "execution_count": 7,
   "metadata": {},
   "outputs": [],
   "source": [
    "def find_C_and_gamma(X_train, X_test, y_train, y_test):\n",
    "    best_score=0\n",
    "    new_C=0\n",
    "    new_gamma=0\n",
    "    C_range=np.arange(.05,2,.05)\n",
    "    gamma_range=np.arange(.001,.1,.001)\n",
    "    \n",
    "    for c_value in C_range:\n",
    "        for gamma_value in gamma_range:\n",
    "            model=svm.SVC(C=c_value, gamma=gamma_value)\n",
    "            model.fit(X_train, y_train)\n",
    "            score=model.score(X_test, y_test)\n",
    "            if score <= best_score:\n",
    "                continue\n",
    "#             print('new high score:',score) \n",
    "            best_score=score\n",
    "            new_C=c_value\n",
    "            new_gamma=gamma_value\n",
    "    print('final score:',best_score)        \n",
    "    return new_C, new_gamma, best_score"
   ]
  },
  {
   "cell_type": "code",
   "execution_count": 8,
   "metadata": {},
   "outputs": [
    {
     "name": "stdout",
     "output_type": "stream",
     "text": [
      "final score: 0.9322033898305084\n"
     ]
    },
    {
     "data": {
      "text/plain": [
       "0.9322033898305084"
      ]
     },
     "execution_count": 8,
     "metadata": {},
     "output_type": "execute_result"
    }
   ],
   "source": [
    "new_C, new_gamma, best_score = find_C_and_gamma(X_train, X_test, y_train, y_test)\n",
    "best_score"
   ]
  },
  {
   "cell_type": "code",
   "execution_count": 9,
   "metadata": {},
   "outputs": [],
   "source": [
    "def do_pca(X, y, n_comps):\n",
    "    X_train, X_test, y_train, y_test=train_test_split(X, y, test_size=.3, random_state=7)\n",
    "    norm=preprocessing.StandardScaler().fit(X_train)\n",
    "    X_train=norm.transform(X_train)\n",
    "    X_test=norm.transform(X_test)\n",
    "    \n",
    "    pca=PCA(n_components=n_comps)\n",
    "    pca.fit(X_train)\n",
    "    X_train=pca.transform(X_train)\n",
    "    X_test=pca.transform(X_test)\n",
    "    return X_train, X_test, y_train, y_test"
   ]
  },
  {
   "cell_type": "code",
   "execution_count": 10,
   "metadata": {},
   "outputs": [
    {
     "name": "stdout",
     "output_type": "stream",
     "text": [
      "final score: 0.8983050847457628\n",
      "final score: 0.9152542372881356\n",
      "final score: 0.9152542372881356\n",
      "final score: 0.9322033898305084\n",
      "final score: 0.9322033898305084\n",
      "final score: 0.9322033898305084\n",
      "final score: 0.9322033898305084\n",
      "final score: 0.9322033898305084\n",
      "final score: 0.9322033898305084\n",
      "final score: 0.9322033898305084\n",
      "final score: 0.9322033898305084\n"
     ]
    }
   ],
   "source": [
    "#loop through pca n_components:4-14\n",
    "for n_comps in range(4,15):\n",
    "    X_train, X_test, y_train, y_test = do_pca(X, y, n_comps)\n",
    "    new_C, new_gamma, best_score = find_C_and_gamma(X_train, X_test, y_train, y_test)"
   ]
  },
  {
   "cell_type": "code",
   "execution_count": 13,
   "metadata": {},
   "outputs": [],
   "source": [
    "#do isomap n_neighbors:2-5, n_components=4-6\n",
    "def do_iso(X, y, n_neigh, n_comps):\n",
    "    X_train, X_test, y_train, y_test=train_test_split(X, y, test_size=.3, random_state=7)\n",
    "    norm=preprocessing.StandardScaler().fit(X_train)\n",
    "    X_train=norm.transform(X_train)\n",
    "    X_test=norm.transform(X_test)\n",
    "    \n",
    "    iso=Isomap(n_neighbors=n_neigh, n_components=n_comps)\n",
    "    iso.fit(X_train)\n",
    "    X_train=iso.transform(X_train)\n",
    "    X_test=iso.transform(X_test)\n",
    "    return X_train, X_test, y_train, y_test"
   ]
  },
  {
   "cell_type": "code",
   "execution_count": 14,
   "metadata": {},
   "outputs": [
    {
     "name": "stdout",
     "output_type": "stream",
     "text": [
      "final score: 0.9322033898305084\n",
      "final score: 0.9491525423728814\n",
      "final score: 0.9491525423728814\n",
      "final score: 0.9491525423728814\n",
      "final score: 0.9491525423728814\n",
      "final score: 0.9491525423728814\n",
      "final score: 0.9491525423728814\n",
      "final score: 0.9491525423728814\n",
      "final score: 0.9322033898305084\n",
      "final score: 0.9491525423728814\n",
      "final score: 0.9322033898305084\n",
      "final score: 0.9491525423728814\n"
     ]
    }
   ],
   "source": [
    "#loop through iso neighbors:2-5 and n_comps:4-6\n",
    "for n_neigh in range(2,6):\n",
    "    for n_comps in range(4,7):\n",
    "        X_train, X_test, y_train, y_test = do_iso(X, y, n_neigh, n_comps)\n",
    "        new_C, new_gamma, best_score = find_C_and_gamma(X_train, X_test, y_train, y_test)"
   ]
  },
  {
   "cell_type": "code",
   "execution_count": null,
   "metadata": {},
   "outputs": [],
   "source": []
  }
 ],
 "metadata": {
  "kernelspec": {
   "display_name": "Python 3",
   "language": "python",
   "name": "python3"
  },
  "language_info": {
   "codemirror_mode": {
    "name": "ipython",
    "version": 3
   },
   "file_extension": ".py",
   "mimetype": "text/x-python",
   "name": "python",
   "nbconvert_exporter": "python",
   "pygments_lexer": "ipython3",
   "version": "3.6.5"
  }
 },
 "nbformat": 4,
 "nbformat_minor": 2
}
